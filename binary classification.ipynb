{
 "cells": [
  {
   "cell_type": "code",
   "execution_count": 12,
   "metadata": {},
   "outputs": [],
   "source": [
    "from sklearn.svm import SVC\n",
    "from sklearn.metrics import accuracy_score\n",
    "from sklearn.tree import DecisionTreeClassifier\n",
    "from sklearn.neural_network import MLPClassifier\n",
    "from sklearn.svm import SVC\n",
    "from sklearn.preprocessing import OrdinalEncoder\n",
    "from sklearn.naive_bayes import GaussianNB\n",
    "from sklearn.metrics import accuracy_score\n",
    "import pandas as pd\n",
    "import numpy as np"
   ]
  },
  {
   "cell_type": "code",
   "execution_count": 13,
   "metadata": {},
   "outputs": [],
   "source": [
    "#fisrt create a funtion to clean the data\n",
    "\n",
    "def Cleancsv(data):\n",
    "    output = []\n",
    "\n",
    "    with open(data, 'r') as reading:\n",
    "        file_input = reading.read().split('\\n')\n",
    "\n",
    "    for row in file_input:\n",
    "        output.append(row.split(';'))\n",
    "    df  = pd.DataFrame(output)\n",
    "    new_header = df.iloc[0]\n",
    "    df = df[1:] \n",
    "    df.columns = new_header\n",
    "    df = df.replace({'\"':''}, regex=True)\n",
    "    df = df.replace({'NA':'0'}, regex=True)\n",
    "    df = df.replace({',':'.'}, regex=True)\n",
    "    df = df.dropna()\n",
    "    df['\"classLabel\"'] = df['\"classLabel\"'].apply(lambda x: 0 if x.strip()=='no.' else 1)\n",
    "    df['\"variable2\"'] = pd.to_numeric(df['\"variable2\"'])\n",
    "    df['\"variable3\"'] = pd.to_numeric(df['\"variable3\"'])\n",
    "    df['\"variable8\"'] = pd.to_numeric(df['\"variable8\"'])\n",
    "    df['\"variable14\"'] = pd.to_numeric(df['\"variable14\"'])\n",
    "    df['\"variable15\"'] = pd.to_numeric(df['\"variable15\"'])\n",
    "    df['\"variable17\"'] = pd.to_numeric(df['\"variable17\"'])\n",
    "    return df\n",
    "   \n",
    "\n",
    "    "
   ]
  },
  {
   "cell_type": "code",
   "execution_count": 14,
   "metadata": {},
   "outputs": [],
   "source": [
    "#convert strings to numbers categorie\n",
    "def en(data):\n",
    "    enc = OrdinalEncoder()\n",
    "    enc.fit(data)\n",
    "    return enc.transform(data)"
   ]
  },
  {
   "cell_type": "code",
   "execution_count": 15,
   "metadata": {},
   "outputs": [],
   "source": [
    "#naive bayes algorithm\n",
    "def NaiveBayes(x_train, x_test, y_train, y_test,userdata):\n",
    "    gnb = GaussianNB()\n",
    "    gnb.fit(x_train, y_train)\n",
    "    Y_pred = gnb.predict(x_test)\n",
    "    predicted= gnb.predict([userdata])\n",
    "    return (accuracy_score(y_test, Y_pred), predicted)"
   ]
  },
  {
   "cell_type": "code",
   "execution_count": 16,
   "metadata": {},
   "outputs": [],
   "source": [
    "#support vector machine algorithm\n",
    "def SupportVectorMachine(x_train, x_test, y_train, y_test , userdata):\n",
    "    clf = SVC(kernel='linear')\n",
    "    clf.fit(x_train, y_train)\n",
    "    Y_pred = clf.predict(x_test)\n",
    "    predicted= clf.predict([userdata])\n",
    "    return (accuracy_score(y_test, Y_pred), predicted)"
   ]
  },
  {
   "cell_type": "code",
   "execution_count": 17,
   "metadata": {},
   "outputs": [],
   "source": [
    "#decision tree algorithm\n",
    "def DecisionTree(x_train, x_test, y_train, y_test, userdata):\n",
    "    ds = DecisionTreeClassifier(random_state=0)\n",
    "    ds.fit(x_train, y_train)\n",
    "    Y_pred = ds.predict(x_test)\n",
    "    predicted= ds.predict([userdata])\n",
    "    return (accuracy_score(y_test, Y_pred) , predicted)"
   ]
  },
  {
   "cell_type": "code",
   "execution_count": 18,
   "metadata": {},
   "outputs": [],
   "source": [
    "#neural network\n",
    "def NeuralNetwork(x_train, x_test, y_train, y_test , userdata):\n",
    "    mlp = MLPClassifier(hidden_layer_sizes=(20, 3))\n",
    "    mlp.fit(x_train, y_train)\n",
    "    Y_pred = mlp.predict(x_test)\n",
    "    predicted= mlp.predict([userdata])\n",
    "    return (accuracy_score(y_test, Y_pred) , predicted)"
   ]
  },
  {
   "cell_type": "code",
   "execution_count": 19,
   "metadata": {
    "scrolled": false
   },
   "outputs": [],
   "source": [
    "#split data into input and prediction\n",
    "training=Cleancsv(\"training.csv\")\n",
    "validation=Cleancsv(\"validation.csv\")\n",
    "y_train  = training['\"classLabel\"']\n",
    "x_train  = training.drop(['\"classLabel\"'], axis=1)\n",
    "y_test   = validation['\"classLabel\"']\n",
    "x_test   = validation.drop(['\"classLabel\"'], axis=1)\n",
    "x_train=en(x_train)\n",
    "x_test=en(x_test)\n"
   ]
  },
  {
   "cell_type": "code",
   "execution_count": 20,
   "metadata": {},
   "outputs": [
    {
     "name": "stdout",
     "output_type": "stream",
     "text": [
      "enter 18 variables\n",
      "1\n",
      "1\n",
      "1\n",
      "1\n",
      "1\n",
      "1\n",
      "1\n",
      "1\n",
      "1\n",
      "1\n",
      "1\n",
      "1\n",
      "1\n",
      "1\n",
      "1\n",
      "1\n",
      "1\n",
      "1\n"
     ]
    },
    {
     "data": {
      "text/plain": [
       "[1.0,\n",
       " 1.0,\n",
       " 1.0,\n",
       " 1.0,\n",
       " 1.0,\n",
       " 1.0,\n",
       " 1.0,\n",
       " 1.0,\n",
       " 1.0,\n",
       " 1.0,\n",
       " 1.0,\n",
       " 1.0,\n",
       " 1.0,\n",
       " 1.0,\n",
       " 1.0,\n",
       " 1.0,\n",
       " 1.0,\n",
       " 1.0]"
      ]
     },
     "execution_count": 20,
     "metadata": {},
     "output_type": "execute_result"
    }
   ],
   "source": [
    "#user input\n",
    "# NOTE enter the equivalent number of the string\n",
    "userdata = []\n",
    "print(\"enter 18 variables\")\n",
    "for i in range(0, 18):\n",
    "    item = float(input())\n",
    "    userdata.append(item)\n",
    "userdata"
   ]
  },
  {
   "cell_type": "code",
   "execution_count": 31,
   "metadata": {},
   "outputs": [
    {
     "name": "stdout",
     "output_type": "stream",
     "text": [
      "accuracy and prediction: 1=yes, 0=no\n",
      "\n",
      "\n",
      "naive bayes\n",
      "(0.495, array([1], dtype=int64))\n",
      "\n",
      "\n",
      "support vector machine\n",
      "(0.495, array([1], dtype=int64))\n",
      "\n",
      "\n",
      "decision tree\n",
      "(0.495, array([1], dtype=int64))\n",
      "\n",
      "\n",
      "neural network\n",
      "(0.585, array([1], dtype=int64))\n",
      "\n",
      "\n",
      "conclusion: the performance of the neutral network is the best here, because has the highest accuracy.\n",
      "\n",
      "\n",
      "navie bayes , support vector machine and decision tree are too close.\n"
     ]
    },
    {
     "name": "stderr",
     "output_type": "stream",
     "text": [
      "c:\\users\\mega\\appdata\\local\\programs\\python\\python38-32\\lib\\site-packages\\sklearn\\neural_network\\_multilayer_perceptron.py:582: ConvergenceWarning: Stochastic Optimizer: Maximum iterations (200) reached and the optimization hasn't converged yet.\n",
      "  warnings.warn(\n"
     ]
    }
   ],
   "source": [
    "print('accuracy and prediction: 1=yes, 0=no')\n",
    "print('\\n')\n",
    "print('naive bayes')\n",
    "\n",
    "print(NaiveBayes(x_train, x_test, y_train, y_test,userdata))\n",
    "print('\\n')\n",
    "print('support vector machine')\n",
    "print(SupportVectorMachine(x_train, x_test, y_train, y_test ,userdata))\n",
    "print('\\n')\n",
    "print('decision tree')\n",
    "print(DecisionTree(x_train, x_test, y_train, y_test ,userdata))\n",
    "print('\\n')\n",
    "print('neural network')\n",
    "print(NeuralNetwork(x_train, x_test, y_train, y_test,userdata))\n",
    "print('\\n')\n",
    "\n",
    "\n",
    "print('conclusion: the performance of the neutral network is the best here, because has the highest accuracy.')\n",
    "print('\\n')\n",
    "print('navie bayes , support vector machine and decision tree are too close.')\n",
    "\n",
    "\n"
   ]
  }
 ],
 "metadata": {
  "kernelspec": {
   "display_name": "Python 3",
   "language": "python",
   "name": "python3"
  },
  "language_info": {
   "codemirror_mode": {
    "name": "ipython",
    "version": 3
   },
   "file_extension": ".py",
   "mimetype": "text/x-python",
   "name": "python",
   "nbconvert_exporter": "python",
   "pygments_lexer": "ipython3",
   "version": "3.8.2"
  }
 },
 "nbformat": 4,
 "nbformat_minor": 4
}
